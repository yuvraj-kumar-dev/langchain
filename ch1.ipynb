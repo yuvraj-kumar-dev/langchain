{
 "cells": [
  {
   "cell_type": "markdown",
   "id": "d4b2645e",
   "metadata": {},
   "source": [
    "# CH1 : Why Langchain and understanding Langchain"
   ]
  },
  {
   "cell_type": "markdown",
   "id": "ec7926ed",
   "metadata": {},
   "source": [
    "**What is Langchain**\n",
    "\n",
    "- Langchain is library and framework written in python used to create *GenAI* (Generative AI) applications irrespective of any kind of LLMs.\n",
    "\n",
    "- We can work with any kind of LLMs like paid or open source"
   ]
  },
  {
   "cell_type": "markdown",
   "id": "0343ec3e",
   "metadata": {},
   "source": [
    "![LangchainDiagram](assets\\Langchain.png)"
   ]
  },
  {
   "cell_type": "markdown",
   "id": "21cf013f",
   "metadata": {
    "vscode": {
     "languageId": "html"
    }
   },
   "source": [
    "    \n",
    "![Langchain_EcoSystem](assets\\Langchain_Eco_System.png)\n",
    "    \n"
   ]
  }
 ],
 "metadata": {
  "kernelspec": {
   "display_name": "base",
   "language": "python",
   "name": "python3"
  },
  "language_info": {
   "codemirror_mode": {
    "name": "ipython",
    "version": 3
   },
   "file_extension": ".py",
   "mimetype": "text/x-python",
   "name": "python",
   "nbconvert_exporter": "python",
   "pygments_lexer": "ipython3",
   "version": "3.12.9"
  }
 },
 "nbformat": 4,
 "nbformat_minor": 5
}
