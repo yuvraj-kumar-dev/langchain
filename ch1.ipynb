{
 "cells": [
  {
   "cell_type": "markdown",
   "id": "d4b2645e",
   "metadata": {},
   "source": [
    "# CH1 : Why Langchain and understanding Langchain"
   ]
  },
  {
   "cell_type": "markdown",
   "id": "ec7926ed",
   "metadata": {},
   "source": []
  }
 ],
 "metadata": {
  "language_info": {
   "name": "python"
  }
 },
 "nbformat": 4,
 "nbformat_minor": 5
}
